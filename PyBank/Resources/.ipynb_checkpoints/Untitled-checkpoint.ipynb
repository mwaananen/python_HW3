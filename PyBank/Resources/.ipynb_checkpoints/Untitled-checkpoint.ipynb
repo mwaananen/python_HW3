{
 "cells": [
  {
   "cell_type": "code",
   "execution_count": 3,
   "id": "913f3d83",
   "metadata": {},
   "outputs": [],
   "source": [
    "import pandas as pd"
   ]
  },
  {
   "cell_type": "code",
   "execution_count": 4,
   "id": "019e6d2a",
   "metadata": {},
   "outputs": [],
   "source": [
    "file = \"C:\\\\Users\\\\mwaan\\\\Desktop\\\\DataBootCamp\\\\Analysis Projects & HW\\\\Homework\\\\PythonHwWk1\\\\Starter_Code\\\\PyBank\\\\Resources\\\\budget_data.csv\""
   ]
  },
  {
   "cell_type": "code",
   "execution_count": 6,
   "id": "155d6986",
   "metadata": {},
   "outputs": [
    {
     "data": {
      "text/html": [
       "<div>\n",
       "<style scoped>\n",
       "    .dataframe tbody tr th:only-of-type {\n",
       "        vertical-align: middle;\n",
       "    }\n",
       "\n",
       "    .dataframe tbody tr th {\n",
       "        vertical-align: top;\n",
       "    }\n",
       "\n",
       "    .dataframe thead th {\n",
       "        text-align: right;\n",
       "    }\n",
       "</style>\n",
       "<table border=\"1\" class=\"dataframe\">\n",
       "  <thead>\n",
       "    <tr style=\"text-align: right;\">\n",
       "      <th></th>\n",
       "      <th>Date</th>\n",
       "      <th>Profit/Losses</th>\n",
       "    </tr>\n",
       "  </thead>\n",
       "  <tbody>\n",
       "    <tr>\n",
       "      <th>0</th>\n",
       "      <td>Jan-10</td>\n",
       "      <td>1088983</td>\n",
       "    </tr>\n",
       "    <tr>\n",
       "      <th>1</th>\n",
       "      <td>Feb-10</td>\n",
       "      <td>-354534</td>\n",
       "    </tr>\n",
       "    <tr>\n",
       "      <th>2</th>\n",
       "      <td>Mar-10</td>\n",
       "      <td>276622</td>\n",
       "    </tr>\n",
       "    <tr>\n",
       "      <th>3</th>\n",
       "      <td>Apr-10</td>\n",
       "      <td>-728133</td>\n",
       "    </tr>\n",
       "    <tr>\n",
       "      <th>4</th>\n",
       "      <td>May-10</td>\n",
       "      <td>852993</td>\n",
       "    </tr>\n",
       "    <tr>\n",
       "      <th>...</th>\n",
       "      <td>...</td>\n",
       "      <td>...</td>\n",
       "    </tr>\n",
       "    <tr>\n",
       "      <th>81</th>\n",
       "      <td>Oct-16</td>\n",
       "      <td>-729004</td>\n",
       "    </tr>\n",
       "    <tr>\n",
       "      <th>82</th>\n",
       "      <td>Nov-16</td>\n",
       "      <td>-112209</td>\n",
       "    </tr>\n",
       "    <tr>\n",
       "      <th>83</th>\n",
       "      <td>Dec-16</td>\n",
       "      <td>516313</td>\n",
       "    </tr>\n",
       "    <tr>\n",
       "      <th>84</th>\n",
       "      <td>Jan-17</td>\n",
       "      <td>607208</td>\n",
       "    </tr>\n",
       "    <tr>\n",
       "      <th>85</th>\n",
       "      <td>Feb-17</td>\n",
       "      <td>382539</td>\n",
       "    </tr>\n",
       "  </tbody>\n",
       "</table>\n",
       "<p>86 rows × 2 columns</p>\n",
       "</div>"
      ],
      "text/plain": [
       "      Date  Profit/Losses\n",
       "0   Jan-10        1088983\n",
       "1   Feb-10        -354534\n",
       "2   Mar-10         276622\n",
       "3   Apr-10        -728133\n",
       "4   May-10         852993\n",
       "..     ...            ...\n",
       "81  Oct-16        -729004\n",
       "82  Nov-16        -112209\n",
       "83  Dec-16         516313\n",
       "84  Jan-17         607208\n",
       "85  Feb-17         382539\n",
       "\n",
       "[86 rows x 2 columns]"
      ]
     },
     "execution_count": 6,
     "metadata": {},
     "output_type": "execute_result"
    }
   ],
   "source": [
    "pydata_df = pd.read_csv(file)\n",
    "pydata_df"
   ]
  },
  {
   "cell_type": "code",
   "execution_count": 9,
   "id": "dbf3afa2",
   "metadata": {},
   "outputs": [
    {
     "name": "stdout",
     "output_type": "stream",
     "text": [
      "22564198\n"
     ]
    }
   ],
   "source": [
    "netprofit = pydata_df['Profit/Losses'].sum()\n",
    "print(netprofit)"
   ]
  },
  {
   "cell_type": "code",
   "execution_count": null,
   "id": "9933a357",
   "metadata": {},
   "outputs": [],
   "source": []
  }
 ],
 "metadata": {
  "kernelspec": {
   "display_name": "Python 3 (ipykernel)",
   "language": "python",
   "name": "python3"
  },
  "language_info": {
   "codemirror_mode": {
    "name": "ipython",
    "version": 3
   },
   "file_extension": ".py",
   "mimetype": "text/x-python",
   "name": "python",
   "nbconvert_exporter": "python",
   "pygments_lexer": "ipython3",
   "version": "3.10.9"
  }
 },
 "nbformat": 4,
 "nbformat_minor": 5
}
